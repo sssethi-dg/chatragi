{
 "cells": [
  {
   "cell_type": "code",
   "execution_count": null,
   "metadata": {},
   "outputs": [],
   "source": [
    "import chromadb\n",
    "from chatragi.config import DB_PATH\n",
    "\n",
    "# Connect to ChromaDB\n",
    "chroma_client = chromadb.PersistentClient(path=DB_PATH)\n",
    "doc_collection = chroma_client.get_or_create_collection(\"doc_index\")\n",
    "\n",
    "# Retrieve all stored documents\n",
    "stored_docs = doc_collection.get()\n",
    "metadatas = stored_docs.get(\"metadatas\", [])\n",
    "\n",
    "# Use a set to collect unique file names\n",
    "unique_file_names = set()\n",
    "\n",
    "for meta_info in metadatas:\n",
    "    if isinstance(meta_info, dict):\n",
    "        file_name = meta_info.get(\"file_name\")\n",
    "        if file_name:\n",
    "            unique_file_names.add(file_name)\n",
    "\n",
    "# Print unique file names\n",
    "print(\"\\n📂 Unique PDF Documents in ChromaDB:\")\n",
    "for file_name in sorted(unique_file_names):  # Sorting for readability\n",
    "    print(f\"📌 {file_name}\")\n",
    "    "
   ]
  }
 ],
 "metadata": {
  "kernelspec": {
   "display_name": ".venv",
   "language": "python",
   "name": "python3"
  },
  "language_info": {
   "codemirror_mode": {
    "name": "ipython",
    "version": 3
   },
   "file_extension": ".py",
   "mimetype": "text/x-python",
   "name": "python",
   "nbconvert_exporter": "python",
   "pygments_lexer": "ipython3",
   "version": "3.11.8"
  }
 },
 "nbformat": 4,
 "nbformat_minor": 2
}
